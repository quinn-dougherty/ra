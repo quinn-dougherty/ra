{
  "nbformat": 4,
  "nbformat_minor": 0,
  "metadata": {
    "colab": {
      "name": "demonstrate-cheatsheet.ipynb",
      "version": "0.3.2",
      "provenance": [],
      "include_colab_link": true
    },
    "kernelspec": {
      "name": "python3",
      "display_name": "Python 3"
    }
  },
  "cells": [
    {
      "cell_type": "markdown",
      "metadata": {
        "id": "view-in-github",
        "colab_type": "text"
      },
      "source": [
        "<a href=\"https://colab.research.google.com/github/quinn-dougherty/ra/blob/master/demonstrate_cheatsheet.ipynb\" target=\"_parent\"><img src=\"https://colab.research.google.com/assets/colab-badge.svg\" alt=\"Open In Colab\"/></a>"
      ]
    },
    {
      "cell_type": "markdown",
      "metadata": {
        "id": "jdNOosHflNUi",
        "colab_type": "text"
      },
      "source": [
        "# 1.4 \n",
        "\n",
        "ordered field properties should probably have a cheatsheet written\n",
        "\n",
        "# 1.6: inequalities\n",
        "\n",
        "### theorem 1.9\n",
        "let $x,y \\in \\mathbb{R}$\n",
        "\n",
        "1. - $|-x| = |x|$, \n",
        "   - $x \\leq |x|$, \n",
        "   - $|x| = max\\{x, -x\\}$\n",
        "2. $|xy| = |x| |y|$\n",
        "3. $|x+y| \\leq |x| + |y|$\n",
        "4. $| |x| + |y| | \\leq |x-y|$\n",
        "\n",
        "If i just do all the exercises these rules will be internalized and I won't need to look them up in a cheatsheet lol \n",
        "\n",
        "### Cauchy-Schwarz inequality \n",
        "\n",
        "for vectors $\\vec{a},\\vec{b}$, dot product $\\vec{a} \\cdot \\vec{b}$, and euclidean length $||\\vec{a}||$, \n",
        "\n",
        "$( \\vec{a} \\cdot \\vec{b} )^{2} \\leq {|| \\vec{a} ||}^{2} {|| \\vec{b} ||}^{2} $\n",
        "\n"
      ]
    },
    {
      "cell_type": "code",
      "metadata": {
        "id": "5XXJaWzOlMwl",
        "colab_type": "code",
        "colab": {
          "base_uri": "https://localhost:8080/",
          "height": 52
        },
        "outputId": "3e08177d-9ea0-4c1f-ef05-7ae257606bcf"
      },
      "source": [
        "def message(x: str) -> str: \n",
        "  ''' you can RUN python, not just write it '''\n",
        "  return f\"and {x} can write python!\"\n",
        "\n",
        "print(message(\"I\"))\n",
        "print(message(\"you\"))"
      ],
      "execution_count": 1,
      "outputs": [
        {
          "output_type": "stream",
          "text": [
            "and I can write python!\n",
            "and you can write python!\n"
          ],
          "name": "stdout"
        }
      ]
    },
    {
      "cell_type": "code",
      "metadata": {
        "id": "xCSFWsXBlOHf",
        "colab_type": "code",
        "colab": {}
      },
      "source": [
        ""
      ],
      "execution_count": 0,
      "outputs": []
    }
  ]
}