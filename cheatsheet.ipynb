{
 "cells": [
  {
   "cell_type": "markdown",
   "metadata": {},
   "source": [
    "# howie ch. 1.4 : ordered fields\n",
    "\n",
    "ordered field properties should probably have a cheatsheet written\n",
    "\n",
    "# Howie ch. 1.6: inequalities\n",
    "\n",
    "### howie theorem 1.9\n",
    "let $x,y \\in \\mathbb{R}$\n",
    "1. $|-x| = |x|, x \\leq |x|, |x| = max\\{x, -x\\}$\n",
    "2. $|xy| = |x| |y|$\n",
    "3. $|x+y| \\leq |x| + |y|$\n",
    "4. $| |x| + |y| | \\leq |x-y|$\n",
    "\n",
    "If i just do all the exercises these rules will be internalized and I won't need to look them up in a cheatsheet lol \n",
    "\n",
    "### howie Cauchy-Schwarz inequality \n",
    "\n",
    "for vectors $a,b$, dot product $a \\cdot b$, and euclidean length $||a||$, \n",
    "\n",
    "$${(a \\cdot b)}^{2} \\leq {||a||}^{2} {||b||}^{2} $$\n"
   ]
  },
  {
   "cell_type": "markdown",
   "metadata": {},
   "source": [
    "# For the people in the back:\n",
    "\n",
    "$inf(A)$ and $glb(A)$ are **aliases** for one another (by definition) \n",
    "\n",
    "$sup(A)$ and $lub(A)$, ditto"
   ]
  },
  {
   "cell_type": "markdown",
   "metadata": {},
   "source": []
  },
  {
   "cell_type": "markdown",
   "metadata": {},
   "source": []
  },
  {
   "cell_type": "markdown",
   "metadata": {},
   "source": [
    "# Abbott ch. 1.3 \n",
    "\n",
    "## AoC: Axiom of Completeness\n",
    "*Every nonempty set of real numbers that is bounded above has a least upper bound.*\n",
    "\n",
    "$\\forall A \\in \\{X \\in P(\\mathbb{R}) | BoundedAbove(X) \\} \\ \\ \\exists s \\in \\mathbb{R} \\ \\ s=lub(A) $\n",
    "\n",
    "\n",
    "## Abbott defn 1.3.1. \n",
    "\n",
    "A set A ⊆ R is **bounded above** (denoted $BoundedAbove(A)$) if there exists a number b ∈ R such that a ≤ b for all a ∈ A. The number b is called an upper bound for A. Similarly, the set A is bounded below if there exists a lower bound l ∈ R satisfying l ≤ a for every a ∈ A.\n",
    "\n",
    "### Abbott: example 1.3.3.\n",
    "\n",
    "    Remark: `sup A and inf A may or may not be elements of the set A.`\n",
    "    \n",
    "for any $ A \\subset \\mathbb{R} $, the **upper bounds of A** denoted $ub(A)$ are the elements of $\\mathbb{R}$ s.t. .... \n",
    "\n",
    "Similarly, the **lower bounds of A** denoted $lb(A)$ ... \n",
    "    \n",
    "\n",
    "### Abbott defn. 1.3.2: \n",
    "\n",
    "Suppose $ A \\subseteq \\mathbb{R}, s \\in \\mathbb{R},  sup(A) = s $\n",
    "\n",
    "$s$ is a **least upper bound** of $A$ (denoted $s = lub(A) = sup(A)$) iff:\n",
    "\n",
    "1. $s \\in ub(A)$\n",
    "2. $ b \\in ub(A) \\implies s \\leq b$\n",
    "\n",
    "### Abbott lemma 1.3.7: \n",
    "\n",
    "$ s = sup(A) \\iff \\forall \\epsilon > 0 \\ \\ \\exists   a \\in A \\ \\ s.t. \\ \\ s - \\epsilon < a$\n",
    "\n",
    "### Abbott exercise-defn. 1.3.2._: \n",
    "\n",
    "Suppose $ A \\subseteq \\mathbb{R}, s \\in \\mathbb{R},  inf(A) = s $\n",
    "\n",
    "$s$ is a **greatest lower bound** of $A$ (denoted $s = glb(A) = inf(A)$) iff:\n",
    "\n",
    "1. $s \\in lb(A)$\n",
    "2. $ b \\in lb(A) \\implies s \\geq b$\n",
    "\n",
    "### Abbott exercise-lemma 1.3.7_: \n",
    "\n",
    "$ s = inf(A) \\iff \\forall \\epsilon > 0 \\ \\ \\exists   a \\in A \\ \\ s.t. \\ \\ s + \\epsilon < a$\n"
   ]
  },
  {
   "cell_type": "markdown",
   "metadata": {},
   "source": [
    "pete-quinn lemma: for any $A \\subset \\mathbb{R}$, $lb(A) \\cap A$ is $\\emptyset$ or $\\{ inf(A) \\}$\n",
    "\n",
    "ditto: $ub(A)$"
   ]
  },
  {
   "cell_type": "code",
   "execution_count": null,
   "metadata": {},
   "outputs": [],
   "source": []
  },
  {
   "cell_type": "code",
   "execution_count": null,
   "metadata": {},
   "outputs": [],
   "source": []
  },
  {
   "cell_type": "code",
   "execution_count": null,
   "metadata": {},
   "outputs": [],
   "source": []
  },
  {
   "cell_type": "code",
   "execution_count": null,
   "metadata": {},
   "outputs": [],
   "source": []
  },
  {
   "cell_type": "code",
   "execution_count": null,
   "metadata": {},
   "outputs": [],
   "source": []
  },
  {
   "cell_type": "code",
   "execution_count": null,
   "metadata": {},
   "outputs": [],
   "source": []
  },
  {
   "cell_type": "code",
   "execution_count": null,
   "metadata": {},
   "outputs": [],
   "source": []
  }
 ],
 "metadata": {
  "kernelspec": {
   "display_name": "Python 3",
   "language": "python",
   "name": "python3"
  },
  "language_info": {
   "codemirror_mode": {
    "name": "ipython",
    "version": 3
   },
   "file_extension": ".py",
   "mimetype": "text/x-python",
   "name": "python",
   "nbconvert_exporter": "python",
   "pygments_lexer": "ipython3",
   "version": "3.6.6"
  }
 },
 "nbformat": 4,
 "nbformat_minor": 2
}
